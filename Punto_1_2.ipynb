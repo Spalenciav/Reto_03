{
  "nbformat": 4,
  "nbformat_minor": 0,
  "metadata": {
    "colab": {
      "provenance": []
    },
    "kernelspec": {
      "name": "python3",
      "display_name": "Python 3"
    },
    "language_info": {
      "name": "python"
    }
  },
  "cells": [
    {
      "cell_type": "code",
      "execution_count": null,
      "metadata": {
        "id": "qQf39oFaKGL0"
      },
      "outputs": [],
      "source": [
        "import math\n",
        "\n",
        "class Point:\n",
        "    def __init__(self, x, y):\n",
        "        self.x = x\n",
        "        self.y = y\n",
        "\n",
        "class Line:\n",
        "    def __init__(self, start, end):\n",
        "        self.start = start\n",
        "        self.end = end\n",
        "        self.length = self.compute_length()\n",
        "        self.slope = self.compute_slope()\n",
        "\n",
        "    def compute_length(self):\n",
        "        dx = self.end.x - self.start.x\n",
        "        dy = self.end.y - self.start.y\n",
        "        return math.sqrt(dx**2 + dy**2)\n",
        "\n",
        "    def compute_slope(self):\n",
        "        dx = self.end.x - self.start.x\n",
        "        dy = self.end.y - self.start.y\n",
        "        if dx == 0:\n",
        "            return float('inf')\n",
        "        return math.degrees(math.atan(dy / dx))\n",
        "\n",
        "    def compute_horizontal_cross(self):\n",
        "        if self.start.y == 0 or self.end.y == 0:\n",
        "            return True\n",
        "        return False\n",
        "\n",
        "    def compute_vertical_cross(self):\n",
        "        if self.start.x == 0 or self.end.x == 0:\n",
        "            return True\n",
        "        return False\n",
        "\n",
        "class Rectangle:\n",
        "    def __init__(self, top_line, right_line, bottom_line, left_line):\n",
        "        self.top_line = top_line\n",
        "        self.right_line = right_line\n",
        "        self.bottom_line = bottom_line\n",
        "        self.left_line = left_line\n",
        "\n",
        "start_top_left = Point(1, 5)\n",
        "end_top_right = Point(7, 5)\n",
        "top_line = Line(start_top_left, end_top_right)\n",
        "\n",
        "start_right_top = Point(7, 5)\n",
        "end_right_bottom = Point(7, 1)\n",
        "right_line = Line(start_right_top, end_right_bottom)\n",
        "\n",
        "start_bottom_left = Point(1, 1)\n",
        "end_bottom_right = Point(7, 1)\n",
        "bottom_line = Line(start_bottom_left, end_bottom_right)\n",
        "\n",
        "start_left_bottom = Point(1, 1)\n",
        "end_left_top = Point(1, 5)\n",
        "left_line = Line(start_left_bottom, end_left_top)\n",
        "\n",
        "rectangle = Rectangle(top_line, right_line, bottom_line, left_line)\n"
      ]
    }
  ]
}