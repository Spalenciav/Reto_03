{
  "nbformat": 4,
  "nbformat_minor": 0,
  "metadata": {
    "colab": {
      "provenance": []
    },
    "kernelspec": {
      "name": "python3",
      "display_name": "Python 3"
    },
    "language_info": {
      "name": "python"
    }
  },
  "cells": [
    {
      "cell_type": "code",
      "execution_count": null,
      "metadata": {
        "id": "r9nYplTlKFNb"
      },
      "outputs": [],
      "source": [
        "import math\n",
        "\n",
        "class Point:\n",
        "    def __init__(self, x, y):\n",
        "        self.x = x\n",
        "        self.y = y\n",
        "\n",
        "class Line:\n",
        "    def __init__(self, start, end):\n",
        "        self.start = start\n",
        "        self.end = end\n",
        "        self.length = self.compute_length()\n",
        "        self.slope = self.compute_slope()\n",
        "\n",
        "    def compute_length(self):\n",
        "        dx = self.end.x - self.start.x\n",
        "        dy = self.end.y - self.start.y\n",
        "        return math.sqrt(dx**2 + dy**2)\n",
        "\n",
        "    def compute_slope(self):\n",
        "        dx = self.end.x - self.start.x\n",
        "        dy = self.end.y - self.start.y\n",
        "        if dx == 0:\n",
        "            return float('inf')\n",
        "        return math.degrees(math.atan(dy / dx))\n",
        "\n",
        "    def compute_horizontal_cross(self):\n",
        "        if self.start.y == 0 or self.end.y == 0:\n",
        "            return True\n",
        "        return False\n",
        "\n",
        "    def compute_vertical_cross(self):\n",
        "        if self.start.x == 0 or self.end.x == 0:\n",
        "            return True\n",
        "        return False\n",
        "\n",
        "start_point = Point(0, 0)\n",
        "end_point = Point(3, 4)\n",
        "line = Line(start_point, end_point)\n",
        "print(\"Length:\", line.length)\n",
        "print(\"Slope:\", line.slope)\n",
        "print(\"Horizontal Intersection:\", line.compute_horizontal_cross())\n",
        "print(\"Vertical Intersection:\", line.compute_vertical_cross())\n",
        "\n"
      ]
    }
  ]
}